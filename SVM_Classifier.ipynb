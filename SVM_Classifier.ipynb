{
 "cells": [
  {
   "cell_type": "code",
   "execution_count": 1,
   "id": "91cf74a1-6675-4f72-bcc2-d561e457a91b",
   "metadata": {},
   "outputs": [],
   "source": [
    "import pandas as pd\n",
    "from sklearn.model_selection import train_test_split\n",
    "from sklearn.feature_extraction.text import TfidfVectorizer\n",
    "from sklearn.svm import SVC\n",
    "from sklearn.metrics import classification_report, accuracy_score"
   ]
  },
  {
   "cell_type": "code",
   "execution_count": 2,
   "id": "d1d18873-b4a0-4428-8a66-03a9aedca923",
   "metadata": {},
   "outputs": [],
   "source": [
    "class SVMClassifier:\n",
    "    \"\"\"Initialize the SVM Classifier with a specified kernel type.\"\"\"\n",
    "    \n",
    "    def __init__(self, kernel: str = \"linear\"):\n",
    "        self.kernel = kernel\n",
    "        self.vectorizer = TfidfVectorizer(stop_words=\"english\", max_df=0.7)\n",
    "        self.classifier = SVC(kernel=self.kernel)"
   ]
  },
  {
   "cell_type": "code",
   "execution_count": 16,
   "id": "bcb86012-bcc4-47fd-b082-a2c034d35433",
   "metadata": {},
   "outputs": [],
   "source": [
    "def preprocess_data(self, false_data_path: str, true_data_path: str):\n",
    "        \"\"\"Load and preprocess the data from the provided paths.\"\"\"\n",
    "    \n",
    "        # Load data\n",
    "        false_data = pd.read_csv(false_data_path)\n",
    "        true_data = pd.read_csv(true_data_path)\n",
    "\n",
    "        # Add labels\n",
    "        false_data[\"label\"] = 0 \n",
    "        true_data[\"label\"] = 1  \n",
    "\n",
    "        # Combine datasets\n",
    "        data = pd.concat([false_data, true_data], ignore_index=True)\n",
    "\n",
    "        # Drop missing values\n",
    "        data.dropna(subset=[\"content\"], inplace=True)\n",
    "\n",
    "        # Separate features and labels\n",
    "        self.X = data[\"content\"]\n",
    "        self.y = data[\"label\"]\n",
    "\n",
    "        print(\"Data successfully preprocessed!\")"
   ]
  },
  {
   "cell_type": "code",
   "execution_count": 5,
   "id": "18789052-4935-4a33-913d-075e05a4c355",
   "metadata": {},
   "outputs": [],
   "source": [
    "def train_test_split(self, test_size: float = 0.2, random_state: int = 42):\n",
    "        \"\"\"Spliting the data into training and testing sets.\"\"\"\n",
    "    \n",
    "        X_train, X_test, y_train, y_test = train_test_split(\n",
    "            self.X, self.y, test_size=test_size, random_state=random_state)\n",
    "        return X_train, X_test, y_train, y_test"
   ]
  },
  {
   "cell_type": "code",
   "execution_count": 15,
   "id": "e562f22d-2539-45e5-af43-bf33544a566f",
   "metadata": {},
   "outputs": [],
   "source": [
    "def fit(self, X_train, y_train):\n",
    "        \"\"\"Training the SVM classifier on the training data.\"\"\"\n",
    "     \n",
    "        # Vectorize training data\n",
    "        X_train_tfidf = self.vectorizer.fit_transform(X_train)\n",
    "\n",
    "        # Train the classifier\n",
    "        self.classifier.fit(X_train_tfidf, y_train)\n",
    "        print(\"SVM Classifier trained successfully!\")"
   ]
  },
  {
   "cell_type": "code",
   "execution_count": 8,
   "id": "5e808fd7-2fe8-4f93-b2e7-175cb3d91d15",
   "metadata": {},
   "outputs": [],
   "source": [
    "def predict(self, X_test):\n",
    "    \"\"\"Predicting the labels for the test data.\"\"\"\n",
    "    \n",
    "        # Vectorize test data\n",
    "    X_test_tfidf = self.vectorizer.transform(X_test)\n",
    "        # Predict using the trained classifier\n",
    "    return self.classifier.predict(X_test_tfidf)"
   ]
  },
  {
   "cell_type": "code",
   "execution_count": 11,
   "id": "04e31129-c585-463c-8f99-1316cce36643",
   "metadata": {},
   "outputs": [],
   "source": [
    "def evaluate(self, y_test, y_pred):\n",
    "    \"\"\"Evaluating the model performance.\"\"\"\n",
    "    print(\"Classification Report: \")\n",
    "    print(classification_report(y_test, y_pred))\n",
    "    print(\"Accuracy Score: {:.2f}\".format(accuracy_score(y_test, y_pred)))"
   ]
  },
  {
   "cell_type": "code",
   "execution_count": 12,
   "id": "157db4c9-e456-446a-955e-71f72a5402ef",
   "metadata": {},
   "outputs": [],
   "source": [
    "# Main execution\n",
    "if __name__ == \"__main__\":\n",
    "    # Instantiate the SVMClassifier\n",
    "    svm_classifier = SVMClassifier(kernel=\"linear\")"
   ]
  },
  {
   "cell_type": "code",
   "execution_count": 17,
   "id": "d7444355-c940-4e77-a748-645231169f6d",
   "metadata": {},
   "outputs": [
    {
     "ename": "AttributeError",
     "evalue": "'SVMClassifier' object has no attribute 'preprocess_data'",
     "output_type": "error",
     "traceback": [
      "\u001b[0;31m---------------------------------------------------------------------------\u001b[0m",
      "\u001b[0;31mAttributeError\u001b[0m                            Traceback (most recent call last)",
      "Cell \u001b[0;32mIn[17], line 2\u001b[0m\n\u001b[1;32m      1\u001b[0m \u001b[38;5;66;03m# Preprocess data\u001b[39;00m\n\u001b[0;32m----> 2\u001b[0m \u001b[43msvm_classifier\u001b[49m\u001b[38;5;241;43m.\u001b[39;49m\u001b[43mpreprocess_data\u001b[49m(\u001b[38;5;124m\"\u001b[39m\u001b[38;5;124mCleaned_False_Data.csv\u001b[39m\u001b[38;5;124m\"\u001b[39m, \u001b[38;5;124m\"\u001b[39m\u001b[38;5;124mCleaned_True_Data.csv\u001b[39m\u001b[38;5;124m\"\u001b[39m)\n",
      "\u001b[0;31mAttributeError\u001b[0m: 'SVMClassifier' object has no attribute 'preprocess_data'"
     ]
    }
   ],
   "source": [
    "# Preprocess data\n",
    "svm_classifier.preprocess_data(\"Cleaned_False_Data.csv\", \"Cleaned_True_Data.csv\")"
   ]
  },
  {
   "cell_type": "code",
   "execution_count": null,
   "id": "e5882e36-03d5-434d-bf88-804614608f60",
   "metadata": {},
   "outputs": [],
   "source": [
    "# Split data\n",
    "X_train, X_test, y_train, y_test = svm_classifier.train_test_split()"
   ]
  },
  {
   "cell_type": "code",
   "execution_count": null,
   "id": "ca22579c-9adb-4d08-89aa-2929a38f32fc",
   "metadata": {},
   "outputs": [],
   "source": [
    "# Train the model\n",
    "svm_classifier.fit(X_train, y_train)"
   ]
  },
  {
   "cell_type": "code",
   "execution_count": null,
   "id": "d6b870db-5bf4-49f5-b847-e67f294211a1",
   "metadata": {},
   "outputs": [],
   "source": [
    "# Make predictions\n",
    "y_pred = svm_classifier.predict(X_test)"
   ]
  },
  {
   "cell_type": "code",
   "execution_count": null,
   "id": "0cb53bd1-a76a-4ed4-81b0-21744e70aa6e",
   "metadata": {},
   "outputs": [],
   "source": [
    "# Evaluate the model\n",
    "svm_classifier.evaluate(y_test, y_pred)"
   ]
  },
  {
   "cell_type": "code",
   "execution_count": null,
   "id": "be109d8f-244a-4e78-b38c-62ca374c4953",
   "metadata": {},
   "outputs": [],
   "source": []
  }
 ],
 "metadata": {
  "kernelspec": {
   "display_name": "Python 3",
   "language": "python",
   "name": "python3"
  },
  "language_info": {
   "codemirror_mode": {
    "name": "ipython",
    "version": 3
   },
   "file_extension": ".py",
   "mimetype": "text/x-python",
   "name": "python",
   "nbconvert_exporter": "python",
   "pygments_lexer": "ipython3",
   "version": "3.12.5"
  }
 },
 "nbformat": 4,
 "nbformat_minor": 5
}
