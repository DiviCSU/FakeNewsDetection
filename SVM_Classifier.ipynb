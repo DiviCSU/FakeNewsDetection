{
 "cells": [
  {
   "cell_type": "code",
   "execution_count": 19,
   "id": "91cf74a1-6675-4f72-bcc2-d561e457a91b",
   "metadata": {},
   "outputs": [],
   "source": [
    "import pandas as pd\n",
    "from sklearn.model_selection import train_test_split\n",
    "from sklearn.feature_extraction.text import TfidfVectorizer\n",
    "from sklearn.svm import SVC\n",
    "from sklearn.metrics import classification_report, accuracy_score"
   ]
  },
  {
   "cell_type": "code",
   "execution_count": 25,
   "id": "d1d18873-b4a0-4428-8a66-03a9aedca923",
   "metadata": {},
   "outputs": [],
   "source": [
    "class SVMClassifier:\n",
    "    \"\"\"Initialize the SVM Classifier with a specified kernel type.\"\"\"\n",
    "\n",
    "    def __init__(self, true_data_path, fake_data_path, kernel: str = \"linear\", max_features=10000, test_size=0.3, random_state=42):\n",
    "        self.true_data_path = true_data_path\n",
    "        self.fake_data_path = fake_data_path\n",
    "        self.kernel = kernel\n",
    "        self.max_features = max_features\n",
    "        self.test_size = test_size\n",
    "        self.random_state = random_state\n",
    "        self.vectorizer = TfidfVectorizer(stop_words=\"english\", max_df=0.7, max_features=self.max_features)\n",
    "        self.classifier = SVC(kernel=self.kernel, random_state=self.random_state)\n",
    "\n",
    "    def load_data(self):\n",
    "        \"\"\"Load and preprocess the data from the provided paths.\"\"\"\n",
    "\n",
    "        # Load data\n",
    "        true_data = pd.read_csv(self.true_data_path)\n",
    "        fake_data = pd.read_csv(self.fake_data_path)\n",
    "\n",
    "        # Add labels\n",
    "        true_data[\"label\"] = 1\n",
    "        fake_data[\"label\"] = 0\n",
    "\n",
    "        # Combine datasets\n",
    "        data = pd.concat([true_data, fake_data], ignore_index=True)\n",
    "\n",
    "        # Shuffle the data\n",
    "        data = data.sample(frac=1, random_state=self.random_state).reset_index(drop=True)\n",
    "\n",
    "        # Drop missing values\n",
    "        data.dropna(subset=[\"Content\"], inplace=True)\n",
    "\n",
    "        return true_data, fake_data, data\n",
    "\n",
    "    def preprocess_data(self, data):\n",
    "        \"\"\"Preprocess the data and split it into training and testing sets.\"\"\"\n",
    "\n",
    "        # Separate features and labels\n",
    "        X = data[\"Content\"]\n",
    "        y = data[\"label\"]\n",
    "\n",
    "        # Split the data\n",
    "        X_train, X_test, y_train, y_test = train_test_split(X, y, test_size=self.test_size, random_state=self.random_state, stratify=y)\n",
    "\n",
    "        # TF-IDF vectorization\n",
    "        X_train_tfidf = self.vectorizer.fit_transform(X_train)\n",
    "        X_test_tfidf = self.vectorizer.transform(X_test)\n",
    "\n",
    "        return X_train_tfidf, X_test_tfidf, y_train, y_test\n",
    "\n",
    "    def train_model(self, X_train_tfidf, y_train):\n",
    "        \"\"\"Train the SVM classifier on the training data.\"\"\"\n",
    "\n",
    "        # Train the classifier\n",
    "        self.classifier.fit(X_train_tfidf, y_train)\n",
    "        print(\"SVM Classifier trained successfully!\")\n",
    "\n",
    "    def evaluate_model(self, X_test_tfidf, y_test):\n",
    "        \"\"\"Evaluate the model performance.\"\"\"\n",
    "\n",
    "        y_pred = self.classifier.predict(X_test_tfidf)\n",
    "\n",
    "        accuracy = accuracy_score(y_test, y_pred)\n",
    "        classification_rep = classification_report(y_test, y_pred)\n",
    "\n",
    "        print(\"Accuracy Score: {:.2f}\".format(accuracy))\n",
    "        print(\"Classification Report:\\n\", classification_rep)\n",
    "\n",
    "        return accuracy, classification_rep"
   ]
  },
  {
   "cell_type": "code",
   "execution_count": 26,
   "id": "157db4c9-e456-446a-955e-71f72a5402ef",
   "metadata": {},
   "outputs": [
    {
     "name": "stdout",
     "output_type": "stream",
     "text": [
      "SVM Classifier trained successfully!\n",
      "Accuracy Score: 0.99\n",
      "Classification Report:\n",
      "               precision    recall  f1-score   support\n",
      "\n",
      "           0       1.00      0.99      0.99      7044\n",
      "           1       0.99      0.99      0.99      6363\n",
      "\n",
      "    accuracy                           0.99     13407\n",
      "   macro avg       0.99      0.99      0.99     13407\n",
      "weighted avg       0.99      0.99      0.99     13407\n",
      "\n"
     ]
    }
   ],
   "source": [
    "# Create an instance of the SVMClassifier class\n",
    "svm_classifier = SVMClassifier(true_data_path='Cleaned_True_Data.csv', fake_data_path='Cleaned_False_Data.csv')\n",
    "\n",
    "# Load and preprocess the data\n",
    "true_data, fake_data, data = svm_classifier.load_data()\n",
    "X_train_tfidf, X_test_tfidf, y_train, y_test = svm_classifier.preprocess_data(data)\n",
    "\n",
    "# Train the model\n",
    "svm_classifier.train_model(X_train_tfidf, y_train)\n",
    "\n",
    "# Evaluate the model\n",
    "accuracy, classification_rep = svm_classifier.evaluate_model(X_test_tfidf, y_test)\n"
   ]
  }
 ],
 "metadata": {
  "kernelspec": {
   "display_name": "Python 3",
   "language": "python",
   "name": "python3"
  },
  "language_info": {
   "codemirror_mode": {
    "name": "ipython",
    "version": 3
   },
   "file_extension": ".py",
   "mimetype": "text/x-python",
   "name": "python",
   "nbconvert_exporter": "python",
   "pygments_lexer": "ipython3",
   "version": "3.12.5"
  }
 },
 "nbformat": 4,
 "nbformat_minor": 5
}
