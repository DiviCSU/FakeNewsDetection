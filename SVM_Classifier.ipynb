{
 "cells": [
  {
   "cell_type": "code",
   "execution_count": 23,
   "id": "7fba410f-1de2-4851-bd31-09d8561c5506",
   "metadata": {},
   "outputs": [],
   "source": [
    "import pandas as pd\n",
    "from sklearn.model_selection import train_test_split\n",
    "from sklearn.feature_extraction.text import TfidfVectorizer\n",
    "from sklearn.svm import SVC\n",
    "from sklearn.metrics import classification_report, accuracy_score\n",
    "import joblib"
   ]
  },
  {
   "cell_type": "code",
   "execution_count": 25,
   "id": "4d358d74-a854-452b-829b-3b86fd85fed8",
   "metadata": {},
   "outputs": [],
   "source": [
    "class SVMClassifier:\n",
    "    def __init__(self):\n",
    "        self.vectorizer = TfidfVectorizer(max_features=5000, stop_words='english')\n",
    "        self.model = SVC(kernel='linear', probability=True)\n",
    "    \n",
    "    def preprocess(self, data):\n",
    "        X = self.vectorizer.fit_transform(data['Content'])\n",
    "        y = data['Label']\n",
    "        return X, y\n",
    "    \n",
    "    def train(self, X_train, y_train):\n",
    "        self.model.fit(X_train, y_train)\n",
    "    \n",
    "    def evaluate(self, X_test, y_test):\n",
    "        y_pred = self.model.predict(X_test)\n",
    "        accuracy = accuracy_score(y_test, y_pred)\n",
    "        report = classification_report(y_test, y_pred)\n",
    "        print(f\"Accuracy:: {accuracy}\")\n",
    "        print(\"Classification Report:\\n\", report)\n",
    "    \n",
    "    def predict(self, texts):\n",
    "        X_texts = self.vectorizer.transform(texts)\n",
    "        return self.model.predict(X_texts)\n",
    "        \n",
    "    def save_model(self, model_path, vectorizer_path):\n",
    "        joblib.dump(self.model, model_path)\n",
    "        joblib.dump(self.vectorizer, vectorizer_path)\n",
    "        \n",
    "    def load_model(self, model_path, vectorizer_path):\n",
    "        self.model = joblib.load(model_path)\n",
    "        self.vectorizer = joblib.load(vectorizer_path)"
   ]
  },
  {
   "cell_type": "code",
   "execution_count": 27,
   "id": "e14285a6-4817-49a6-91cc-fec0943a3fba",
   "metadata": {},
   "outputs": [],
   "source": [
    "# Load datasets\n",
    "false_data = pd.read_csv(\"Cleaned_False_Data.csv\")\n",
    "true_data = pd.read_csv(\"Cleaned_True_Data.csv\")\n",
    "\n",
    "# Combine and label data\n",
    "false_data['Label'] = 0  # Label for false articles\n",
    "true_data['Label'] = 1   # Label for true articles\n",
    "combined_data = pd.concat([false_data, true_data], ignore_index=True)\n",
    "combined_data = combined_data[['Content', 'Label']].dropna()"
   ]
  },
  {
   "cell_type": "code",
   "execution_count": null,
   "id": "aa6fb4c9-9b9e-48ee-80c9-3a4d02f41f3b",
   "metadata": {},
   "outputs": [],
   "source": [
    "# Instantiate the classifier\n",
    "svm_classifier = SVMClassifier()\n",
    "\n",
    "# Preprocess data\n",
    "X, y = svm_classifier.preprocess(combined_data)\n",
    "\n",
    "# Split into training and testing sets\n",
    "X_train, X_test, y_train, y_test = train_test_split(X, y, test_size=0.2, random_state=42)\n",
    "\n",
    "# Train the classifier\n",
    "svm_classifier.train(X_train, y_train)\n",
    "\n",
    "# Evaluate the classifier\n",
    "svm_classifier.evaluate(X_test, y_test)"
   ]
  },
  {
   "cell_type": "code",
   "execution_count": null,
   "id": "d39d4215-5cf0-4d53-8d1e-596a237b8a85",
   "metadata": {},
   "outputs": [],
   "source": [
    "# Test predictions\n",
    "new_articles = [\n",
    "    \"The government announced a new policy today.\",\n",
    "    \"Aliens have landed, claims unverified report.\",\n",
    "]\n",
    "predictions = svm_classifier.predict(new_articles)\n",
    "for article, label in zip(new_articles, predictions):\n",
    "    print(f\"Article: {article}\\nPrediction: {'True' if label == 1 else 'False'}\\n\")\n",
    "\n",
    "# Save the model and vectorizer\n",
    "svm_classifier.save_model(\"svm_model.pkl\", \"vectorizer.pkl\")"
   ]
  },
  {
   "cell_type": "code",
   "execution_count": null,
   "id": "65f9864d-8120-45a6-921f-1d3f9c8b6468",
   "metadata": {},
   "outputs": [],
   "source": []
  }
 ],
 "metadata": {
  "kernelspec": {
   "display_name": "Python 3 (ipykernel)",
   "language": "python",
   "name": "python3"
  },
  "language_info": {
   "codemirror_mode": {
    "name": "ipython",
    "version": 3
   },
   "file_extension": ".py",
   "mimetype": "text/x-python",
   "name": "python",
   "nbconvert_exporter": "python",
   "pygments_lexer": "ipython3",
   "version": "3.12.4"
  }
 },
 "nbformat": 4,
 "nbformat_minor": 5
}
